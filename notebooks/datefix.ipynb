{
 "cells": [
  {
   "cell_type": "code",
   "execution_count": 1,
   "metadata": {},
   "outputs": [
    {
     "name": "stdout",
     "output_type": "stream",
     "text": [
      "50 files to be read into MetData\n"
     ]
    }
   ],
   "source": [
    "# fundamentals\n",
    "import os, glob\n",
    "import numpy as np\n",
    "import pandas as pd\n",
    "from calendar import monthrange, month_name\n",
    "import scipy.stats as stats\n",
    "import funcs as funcs\n",
    "import datetime\n",
    "import imp\n",
    "\n",
    "# plotting libraries and setup\n",
    "from matplotlib.colors import BoundaryNorm\n",
    "import matplotlib.pyplot as plt\n",
    "%matplotlib inline\n",
    "fs = 12\n",
    "plt.rc('font', family='serif')\n",
    "plt.rc('font', size=fs)\n",
    "plt.rc('facecolor', )\n",
    "\n",
    "# met mast functions and utilities\n",
    "import met_funcs as MET\n",
    "import vis as vis\n",
    "import utils as utils\n",
    "\n",
    "# paths (must mount volume smb://nrel.gov/shared/wind/WindWeb/MetData/135mData/)\n",
    "towerID = 'M4'\n",
    "metPathLoHz = '/Volumes/135mData/{}Twr/10min/txt/'.format(towerID)\n",
    "savePath = '/Volumes/135mData/{}Twr/10min/txt_corrected/'.format(towerID)\n",
    "\n",
    "figPath = '../../figs/{}'.format(towerID)\n",
    "\n",
    "# time range\n",
    "years  = [ int(a) for a in np.arange(2012,2017,1) ] #\n",
    "months = [ int(a) for a in np.arange(1,12.1,1) ]\n",
    "# or just get all?\n",
    "\n",
    "\n",
    "inputfiles = [] # list of files to be read into metdata object\n",
    "filecount = 0\n",
    "\n",
    "for year in years:\n",
    "    for month in months:\n",
    "        fName = glob.glob(os.path.join(metPathLoHz,'{0}_{1}.txt'.format(year,month_name[month])))        \n",
    "        if len(fName)>0:\n",
    "            fName = fName[0] \n",
    "            inputfiles.append(fName)\n",
    "print('{} files to be read into MetData'.format(len(inputfiles)))\n"
   ]
  },
  {
   "cell_type": "code",
   "execution_count": 2,
   "metadata": {},
   "outputs": [
    {
     "name": "stdout",
     "output_type": "stream",
     "text": [
      "/Volumes/135mData/M4Twr/10min/txt_corrected/2012_January.txt\n",
      "/Volumes/135mData/M4Twr/10min/txt_corrected/2012_February.txt\n",
      "/Volumes/135mData/M4Twr/10min/txt_corrected/2012_March.txt\n",
      "/Volumes/135mData/M4Twr/10min/txt_corrected/2012_April.txt\n",
      "/Volumes/135mData/M4Twr/10min/txt_corrected/2012_May.txt\n",
      "/Volumes/135mData/M4Twr/10min/txt_corrected/2012_June.txt\n",
      "/Volumes/135mData/M4Twr/10min/txt_corrected/2012_July.txt\n",
      "/Volumes/135mData/M4Twr/10min/txt_corrected/2012_August.txt\n",
      "/Volumes/135mData/M4Twr/10min/txt_corrected/2012_September.txt\n",
      "/Volumes/135mData/M4Twr/10min/txt_corrected/2012_October.txt\n",
      "/Volumes/135mData/M4Twr/10min/txt_corrected/2012_November.txt\n",
      "/Volumes/135mData/M4Twr/10min/txt_corrected/2012_December.txt\n",
      "/Volumes/135mData/M4Twr/10min/txt_corrected/2013_January.txt\n",
      "/Volumes/135mData/M4Twr/10min/txt_corrected/2013_February.txt\n",
      "/Volumes/135mData/M4Twr/10min/txt_corrected/2013_March.txt\n",
      "/Volumes/135mData/M4Twr/10min/txt_corrected/2013_April.txt\n",
      "/Volumes/135mData/M4Twr/10min/txt_corrected/2013_May.txt\n",
      "/Volumes/135mData/M4Twr/10min/txt_corrected/2013_June.txt\n",
      "/Volumes/135mData/M4Twr/10min/txt_corrected/2013_July.txt\n",
      "/Volumes/135mData/M4Twr/10min/txt_corrected/2013_August.txt\n",
      "/Volumes/135mData/M4Twr/10min/txt_corrected/2013_September.txt\n",
      "/Volumes/135mData/M4Twr/10min/txt_corrected/2013_October.txt\n",
      "/Volumes/135mData/M4Twr/10min/txt_corrected/2013_November.txt\n",
      "/Volumes/135mData/M4Twr/10min/txt_corrected/2013_December.txt\n",
      "/Volumes/135mData/M4Twr/10min/txt_corrected/2014_January.txt\n",
      "/Volumes/135mData/M4Twr/10min/txt_corrected/2014_February.txt\n",
      "/Volumes/135mData/M4Twr/10min/txt_corrected/2014_March.txt\n",
      "/Volumes/135mData/M4Twr/10min/txt_corrected/2014_April.txt\n",
      "/Volumes/135mData/M4Twr/10min/txt_corrected/2014_May.txt\n",
      "/Volumes/135mData/M4Twr/10min/txt_corrected/2014_June.txt\n",
      "/Volumes/135mData/M4Twr/10min/txt_corrected/2014_July.txt\n",
      "/Volumes/135mData/M4Twr/10min/txt_corrected/2014_August.txt\n",
      "/Volumes/135mData/M4Twr/10min/txt_corrected/2014_September.txt\n",
      "/Volumes/135mData/M4Twr/10min/txt_corrected/2014_October.txt\n",
      "/Volumes/135mData/M4Twr/10min/txt_corrected/2014_November.txt\n",
      "/Volumes/135mData/M4Twr/10min/txt_corrected/2014_December.txt\n",
      "/Volumes/135mData/M4Twr/10min/txt_corrected/2015_January.txt\n",
      "/Volumes/135mData/M4Twr/10min/txt_corrected/2015_February.txt\n",
      "/Volumes/135mData/M4Twr/10min/txt_corrected/2015_March.txt\n",
      "/Volumes/135mData/M4Twr/10min/txt_corrected/2015_April.txt\n",
      "/Volumes/135mData/M4Twr/10min/txt_corrected/2015_May.txt\n",
      "/Volumes/135mData/M4Twr/10min/txt_corrected/2015_June.txt\n",
      "/Volumes/135mData/M4Twr/10min/txt_corrected/2015_July.txt\n",
      "/Volumes/135mData/M4Twr/10min/txt_corrected/2015_August.txt\n",
      "/Volumes/135mData/M4Twr/10min/txt_corrected/2015_September.txt\n",
      "/Volumes/135mData/M4Twr/10min/txt_corrected/2015_October.txt\n",
      "/Volumes/135mData/M4Twr/10min/txt_corrected/2016_January.txt\n",
      "/Volumes/135mData/M4Twr/10min/txt_corrected/2016_February.txt\n",
      "/Volumes/135mData/M4Twr/10min/txt_corrected/2016_March.txt\n",
      "/Volumes/135mData/M4Twr/10min/txt_corrected/2016_April.txt\n"
     ]
    }
   ],
   "source": [
    "for year in years:\n",
    "    for month in months:\n",
    "        fName = os.path.join(metPathLoHz,'{0}_{1}.txt'.format(year,month_name[month]))      \n",
    "        fSave = os.path.join(savePath,'{0}_{1}.txt'.format(year,month_name[month]))\n",
    "        \n",
    "        try:\n",
    "            head = pd.read_csv(fName, header=None, nrows=6)\n",
    "            df = pd.read_csv(fName, header=6, low_memory=False)\n",
    "\n",
    "            df['Date'] = df['Date'].str.replace('    ', '')\n",
    "            mask = df['Date'].str.contains('NaN',case=False)\n",
    "            df = df[~mask]\n",
    "\n",
    "            head.to_csv(fSave, index=False)\n",
    "            with open(fSave, 'a') as f:\n",
    "                df.to_csv(f, index=False)\n",
    "            print(fSave)\n",
    "        except:\n",
    "            continue\n"
   ]
  },
  {
   "cell_type": "code",
   "execution_count": null,
   "metadata": {},
   "outputs": [],
   "source": []
  }
 ],
 "metadata": {
  "kernelspec": {
   "display_name": "Python 3",
   "language": "python",
   "name": "python3"
  },
  "language_info": {
   "codemirror_mode": {
    "name": "ipython",
    "version": 3
   },
   "file_extension": ".py",
   "mimetype": "text/x-python",
   "name": "python",
   "nbconvert_exporter": "python",
   "pygments_lexer": "ipython3",
   "version": "3.6.4"
  }
 },
 "nbformat": 4,
 "nbformat_minor": 2
}
