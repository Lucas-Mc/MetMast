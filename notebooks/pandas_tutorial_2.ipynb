{
 "cells": [
  {
   "cell_type": "code",
   "execution_count": 1,
   "metadata": {
    "collapsed": true
   },
   "outputs": [],
   "source": [
    "import pandas as pd\n",
    "import matplotlib.pyplot as plt"
   ]
  },
  {
   "cell_type": "code",
   "execution_count": 3,
   "metadata": {
    "collapsed": true
   },
   "outputs": [],
   "source": [
    "cat1 = pd.read_csv('201301.csv')\n",
    "cat2 = pd.read_csv('201302.csv')\n",
    "cat3 = pd.read_csv('201303.csv')"
   ]
  },
  {
   "cell_type": "code",
   "execution_count": 4,
   "metadata": {},
   "outputs": [
    {
     "name": "stdout",
     "output_type": "stream",
     "text": [
      "cat1\t cat2\t cat3\t pd\t plt\t \n"
     ]
    }
   ],
   "source": [
    "who"
   ]
  },
  {
   "cell_type": "code",
   "execution_count": 5,
   "metadata": {},
   "outputs": [
    {
     "name": "stdout",
     "output_type": "stream",
     "text": [
      "Variable   Type         Data/Info\n",
      "---------------------------------\n",
      "cat1       DataFrame                  TimeStamp  <...>n[4465 rows x 62 columns]\n",
      "cat2       DataFrame                  TimeStamp  <...>n[4321 rows x 74 columns]\n",
      "cat3       DataFrame                  TimeStamp  <...>n[4321 rows x 65 columns]\n",
      "pd         module       <module 'pandas' from '/U<...>ages/pandas/__init__.py'>\n",
      "plt        module       <module 'matplotlib.pyplo<...>es/matplotlib/pyplot.py'>\n"
     ]
    }
   ],
   "source": [
    "whos"
   ]
  },
  {
   "cell_type": "code",
   "execution_count": 6,
   "metadata": {
    "collapsed": true
   },
   "outputs": [],
   "source": [
    "# rowconcat = pd.concat([cat1, cat2, cat3])\n",
    "# colconcat = pd.concat([cat1, cat2, cat3], 1) "
   ]
  },
  {
   "cell_type": "code",
   "execution_count": 7,
   "metadata": {},
   "outputs": [
    {
     "data": {
      "text/plain": [
       "Index(['TimeStamp', 'StationId', 'met_TemperatureTen_min',\n",
       "       'met_TemperatureTen_max', 'met_TemperatureTen_mean',\n",
       "       'met_TemperatureTen_stddev', 'met_WinddirectionRot_min',\n",
       "       'met_WinddirectionRot_max', 'met_WinddirectionRot_mean',\n",
       "       'met_WinddirectionRot_stddev', 'met_Humidity_min', 'met_Humidity_max',\n",
       "       'met_Humidity_mean', 'met_Humidity_stddev', 'met_Pressure_min',\n",
       "       'met_Pressure_max', 'met_Pressure_mean', 'met_Pressure_stddev',\n",
       "       'met_Rainfall10_min', 'met_Rainfall10_max', 'met_Rainfall10_mean',\n",
       "       'met_Rainfall10_stddev', 'met_WindSpeedRot_min', 'met_WindSpeedRot_max',\n",
       "       'met_WindSpeedRot_mean', 'met_WindSpeedRot_stddev',\n",
       "       'met_WindSpeedInsRangeRotTot_endvalue',\n",
       "       'met_WindSpeedMeanRotTot_endvalue',\n",
       "       'met_WindSpeedGustMaxRotTot_endvalue', 'met_VoltageBat_min',\n",
       "       'met_VoltageBat_max', 'met_VoltageBat_mean', 'met_VoltageBat_stddev',\n",
       "       'met_ResetTmT_endvalue', 'met_WindSpeedHub2_mean',\n",
       "       'met_WindSpeedHub2_min', 'met_WindSpeedHub2_max',\n",
       "       'met_WindSpeedHub2_stddev', 'met_WindSpeedTipLow_mean',\n",
       "       'met_WindSpeedTipLow_min', 'met_WindSpeedTipLow_max',\n",
       "       'met_WindSpeedTipLow_stddev', 'met_WindSpeedBase_mean',\n",
       "       'met_WindSpeedBase_max', 'met_WindSpeedBase_min',\n",
       "       'met_WindSpeedBase_stddev', 'met_WindDirectionTipLow_stddev',\n",
       "       'met_WindDirectionTipLow_min', 'met_WindDirectionTipLow_max',\n",
       "       'met_WindDirectionTipLow_mean', 'met_WindDirectionBase_stddev',\n",
       "       'met_WindDirectionBase_min', 'met_WindDirectionBase_max',\n",
       "       'met_WindDirectionBase_mean', 'met_ObstructionLight_mean',\n",
       "       'met_ObstructionLight_min', 'met_ObstructionLight_max',\n",
       "       'met_ObstructionLight_stddev', 'met_MarineLantern_mean',\n",
       "       'met_MarineLantern_min', 'met_MarineLantern_max',\n",
       "       'met_MarineLantern_stddev'],\n",
       "      dtype='object')"
      ]
     },
     "execution_count": 7,
     "metadata": {},
     "output_type": "execute_result"
    }
   ],
   "source": [
    "cat1.columns"
   ]
  },
  {
   "cell_type": "code",
   "execution_count": 10,
   "metadata": {
    "scrolled": false
   },
   "outputs": [],
   "source": [
    "rowconcat = pd.concat([cat1, cat2, cat3])\n"
   ]
  },
  {
   "cell_type": "code",
   "execution_count": 11,
   "metadata": {},
   "outputs": [
    {
     "data": {
      "text/plain": [
       "(13107, 74)"
      ]
     },
     "execution_count": 11,
     "metadata": {},
     "output_type": "execute_result"
    }
   ],
   "source": [
    "rowconcat.shape"
   ]
  },
  {
   "cell_type": "code",
   "execution_count": 12,
   "metadata": {
    "collapsed": true
   },
   "outputs": [],
   "source": [
    "rowconcat.to_csv('concatdatatest.csv')"
   ]
  },
  {
   "cell_type": "code",
   "execution_count": 13,
   "metadata": {},
   "outputs": [
    {
     "name": "stdout",
     "output_type": "stream",
     "text": [
      "\u001b[31m201301.csv\u001b[m\u001b[m*             \u001b[31mconcatdatatest.csv\u001b[m\u001b[m*     \u001b[31mnotes.rtf\u001b[m\u001b[m*\r\n",
      "\u001b[31m201302.csv\u001b[m\u001b[m*             \u001b[31mexampleMetData.csv\u001b[m\u001b[m*     \u001b[31mpandas_tutorials.ipynb\u001b[m\u001b[m*\r\n",
      "\u001b[31m201303.csv\u001b[m\u001b[m*             \u001b[31mnicholas_testing.ipynb\u001b[m\u001b[m*\r\n",
      "\u001b[31mUntitled.ipynb\u001b[m\u001b[m*         \u001b[31mnicholas_testing.py\u001b[m\u001b[m*\r\n"
     ]
    }
   ],
   "source": [
    "ls\n"
   ]
  },
  {
   "cell_type": "code",
   "execution_count": 14,
   "metadata": {},
   "outputs": [
    {
     "name": "stdout",
     "output_type": "stream",
     "text": [
      "total 51936\r\n",
      "drwx------+ 1 nhamilto  NREL_NT\\Domain Users    16K Dec 12  2017 \u001b[34m.\u001b[m\u001b[m/\r\n",
      "drwx------@ 1 nhamilto  NREL_NT\\Domain Users    16K Dec 12 09:02 \u001b[34m..\u001b[m\u001b[m/\r\n",
      "drwx------+ 1 nhamilto  NREL_NT\\Domain Users    16K Dec 12 09:46 \u001b[34m.ipynb_checkpoints\u001b[m\u001b[m/\r\n",
      "-rwx------@ 1 nhamilto  NREL_NT\\Domain Users   4.0M Sep 15 17:42 \u001b[31m201301.csv\u001b[m\u001b[m*\r\n",
      "-rwx------@ 1 nhamilto  NREL_NT\\Domain Users   4.1M Sep 15 17:44 \u001b[31m201302.csv\u001b[m\u001b[m*\r\n",
      "-rwx------@ 1 nhamilto  NREL_NT\\Domain Users   4.0M Sep 15 17:45 \u001b[31m201303.csv\u001b[m\u001b[m*\r\n",
      "-rwx------+ 1 nhamilto  NREL_NT\\Domain Users   5.2K Dec 12 10:00 \u001b[31mUntitled.ipynb\u001b[m\u001b[m*\r\n",
      "-rwx------+ 1 nhamilto  NREL_NT\\Domain Users   8.9M Dec 12  2017 \u001b[31mconcatdatatest.csv\u001b[m\u001b[m*\r\n",
      "-rwx------@ 1 nhamilto  NREL_NT\\Domain Users   4.0M Sep 15 17:42 \u001b[31mexampleMetData.csv\u001b[m\u001b[m*\r\n",
      "-rwx------+ 1 nhamilto  NREL_NT\\Domain Users    78K Nov 10 08:19 \u001b[31mnicholas_testing.ipynb\u001b[m\u001b[m*\r\n",
      "-rwx------@ 1 nhamilto  NREL_NT\\Domain Users   1.7K Nov 10 08:19 \u001b[31mnicholas_testing.py\u001b[m\u001b[m*\r\n",
      "-rwx------@ 1 nhamilto  NREL_NT\\Domain Users   697B Dec 12 08:33 \u001b[31mnotes.rtf\u001b[m\u001b[m*\r\n",
      "-rwx------+ 1 nhamilto  NREL_NT\\Domain Users    70K Dec 12 09:46 \u001b[31mpandas_tutorials.ipynb\u001b[m\u001b[m*\r\n"
     ]
    }
   ],
   "source": [
    "ls -lha"
   ]
  },
  {
   "cell_type": "code",
   "execution_count": 15,
   "metadata": {
    "collapsed": true
   },
   "outputs": [],
   "source": [
    "# merging data"
   ]
  },
  {
   "cell_type": "code",
   "execution_count": 16,
   "metadata": {
    "collapsed": true
   },
   "outputs": [],
   "source": [
    "# mergeTest = cat1.merge(cat2, otheroptions...)"
   ]
  },
  {
   "cell_type": "code",
   "execution_count": 17,
   "metadata": {
    "collapsed": true
   },
   "outputs": [],
   "source": [
    "from numpy import NAN, NaN, nan"
   ]
  },
  {
   "cell_type": "code",
   "execution_count": 19,
   "metadata": {},
   "outputs": [
    {
     "data": {
      "text/plain": [
       "True"
      ]
     },
     "execution_count": 19,
     "metadata": {},
     "output_type": "execute_result"
    }
   ],
   "source": [
    "pd.isnull(NaN) # nan values are null"
   ]
  },
  {
   "cell_type": "code",
   "execution_count": 21,
   "metadata": {
    "collapsed": true
   },
   "outputs": [],
   "source": [
    "test = pd.read_csv('concatdatatest.csv', na_values='NaN')"
   ]
  },
  {
   "cell_type": "markdown",
   "metadata": {},
   "source": [
    "test.loc[test., ]"
   ]
  },
  {
   "cell_type": "code",
   "execution_count": 22,
   "metadata": {},
   "outputs": [
    {
     "data": {
      "text/plain": [
       "0        False\n",
       "1        False\n",
       "2        False\n",
       "3        False\n",
       "4        False\n",
       "5        False\n",
       "6        False\n",
       "7        False\n",
       "8        False\n",
       "9        False\n",
       "10       False\n",
       "11       False\n",
       "12       False\n",
       "13       False\n",
       "14       False\n",
       "15       False\n",
       "16       False\n",
       "17       False\n",
       "18       False\n",
       "19       False\n",
       "20       False\n",
       "21       False\n",
       "22       False\n",
       "23       False\n",
       "24       False\n",
       "25       False\n",
       "26       False\n",
       "27       False\n",
       "28       False\n",
       "29       False\n",
       "         ...  \n",
       "13077    False\n",
       "13078    False\n",
       "13079    False\n",
       "13080    False\n",
       "13081    False\n",
       "13082    False\n",
       "13083    False\n",
       "13084    False\n",
       "13085    False\n",
       "13086    False\n",
       "13087    False\n",
       "13088    False\n",
       "13089    False\n",
       "13090    False\n",
       "13091    False\n",
       "13092    False\n",
       "13093    False\n",
       "13094    False\n",
       "13095    False\n",
       "13096    False\n",
       "13097    False\n",
       "13098    False\n",
       "13099    False\n",
       "13100    False\n",
       "13101    False\n",
       "13102    False\n",
       "13103    False\n",
       "13104    False\n",
       "13105    False\n",
       "13106    False\n",
       "Name: met_Humidity_mean, Length: 13107, dtype: bool"
      ]
     },
     "execution_count": 22,
     "metadata": {},
     "output_type": "execute_result"
    }
   ],
   "source": [
    "pd.isnull(test.met_Humidity_mean)"
   ]
  },
  {
   "cell_type": "code",
   "execution_count": 23,
   "metadata": {
    "collapsed": true
   },
   "outputs": [],
   "source": [
    "import seaborn as sns"
   ]
  },
  {
   "cell_type": "code",
   "execution_count": null,
   "metadata": {
    "collapsed": true
   },
   "outputs": [],
   "source": []
  }
 ],
 "metadata": {
  "kernelspec": {
   "display_name": "Python 3",
   "language": "python",
   "name": "python3"
  },
  "language_info": {
   "codemirror_mode": {
    "name": "ipython",
    "version": 3
   },
   "file_extension": ".py",
   "mimetype": "text/x-python",
   "name": "python",
   "nbconvert_exporter": "python",
   "pygments_lexer": "ipython3",
   "version": "3.6.1"
  }
 },
 "nbformat": 4,
 "nbformat_minor": 2
}
