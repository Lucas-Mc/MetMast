{
 "cells": [
  {
   "cell_type": "code",
   "execution_count": 1,
   "metadata": {},
   "outputs": [],
   "source": [
    "# fundamentals\n",
    "import os, glob\n",
    "import numpy as np\n",
    "import pandas as pd\n",
    "from calendar import monthrange, month_name\n",
    "import scipy.stats as stats\n",
    "import funcs as funcs\n",
    "import datetime\n",
    "import imp\n",
    "\n",
    "# plotting libraries and setup\n",
    "from matplotlib.colors import BoundaryNorm\n",
    "import matplotlib.pyplot as plt\n",
    "%matplotlib inline\n",
    "fs = 12\n",
    "plt.rc('font', family='serif')\n",
    "plt.rc('font', size=fs)\n",
    "plt.rc('facecolor', )\n",
    "\n",
    "# met mast functions and utilities\n",
    "import met_funcs as MET\n",
    "import vis as vis\n",
    "import utils as utils"
   ]
  },
  {
   "cell_type": "code",
   "execution_count": 2,
   "metadata": {},
   "outputs": [],
   "source": [
    "# paths (must mount volume smb://nrel.gov/shared/wind/WindWeb/MetData/135mData/)\n",
    "towerID = 'M4'\n",
    "metPathLoHz = '/Volumes/135mData/{}Twr/10min/txt_corrected/'.format(towerID)\n",
    "figPath = '../../figs/{}'.format(towerID)"
   ]
  },
  {
   "cell_type": "code",
   "execution_count": 3,
   "metadata": {},
   "outputs": [],
   "source": [
    "# time range\n",
    "years  = [ int(a) for a in np.arange(2012,2017,1) ] #\n",
    "months = [ int(a) for a in np.arange(1,12.1,1) ]\n",
    "# or just get all?\n"
   ]
  },
  {
   "cell_type": "code",
   "execution_count": 4,
   "metadata": {},
   "outputs": [
    {
     "name": "stdout",
     "output_type": "stream",
     "text": [
      "50 files to be read into MetData\n"
     ]
    }
   ],
   "source": [
    "inputfiles = [] # list of files to be read into metdata object\n",
    "filecount = 0\n",
    "\n",
    "for year in years:\n",
    "    for month in months:\n",
    "        fName = glob.glob(os.path.join(metPathLoHz,'{0}_{1}.txt'.format(year,month_name[month])))        \n",
    "        if len(fName)>0:\n",
    "            fName = fName[0] \n",
    "            inputfiles.append(fName)\n",
    "print('{} files to be read into MetData'.format(len(inputfiles)))\n"
   ]
  },
  {
   "cell_type": "code",
   "execution_count": 5,
   "metadata": {},
   "outputs": [
    {
     "name": "stdout",
     "output_type": "stream",
     "text": [
      "number of data columns: 437\n",
      "number of QC columns: 443\n",
      "number of columns after filtering: 127\n"
     ]
    }
   ],
   "source": [
    "## load data from list of input data files\n",
    "metdat = MET.load_met_data(inputfiles,verbose=False)\n",
    "\n",
    "## use qc columns to mask data (qc != 1 --> questionable data)\n",
    "metdat = MET.qc_mask(metdat)\n",
    "\n",
    "## remove columns that are all nans\n",
    "metdat = MET.drop_nan_cols(metdat)\n",
    "\n",
    "## flag data by stability class\n",
    "stabconds, stabcat = MET.flag_stability(metdat)\n",
    "\n",
    "## group columns based on category, assign units, labels, savenames\n",
    "varcats, varunits, varlabels, varsave = MET.categorize_fields(metdat, keeplist=True)\n",
    "catinfo = {}\n",
    "catinfo['columns'] = varcats\n",
    "catinfo['units'] = varunits\n",
    "catinfo['labels'] = varlabels\n",
    "catinfo['save'] = varsave\n",
    "\n",
    "# ## drop columns not in any of the categories, filter TI, temperature, stability parameters\n",
    "MET.groom_data(metdat, varcats)\n",
    "\n",
    "\n",
    "filtcols = [col for col in metdat.columns if 'air' not in col.lower() and 'humidity' not in col.lower()]\n",
    "## Finally, reject outliers more than 5 standard deviations from the mean\n",
    "for col in filtcols:\n",
    "    try:\n",
    "        metdat[col] = MET.reject_outliers(metdat[col], m=6)\n",
    "    except:\n",
    "        continue"
   ]
  },
  {
   "cell_type": "code",
   "execution_count": 6,
   "metadata": {},
   "outputs": [],
   "source": [
    "# M4 excluded angles,\n",
    "# GE\t\t\t15\t\t53\n",
    "# Alstom\t\t12\t\t64\n",
    "# CART-3\t\t13\t\t54\n",
    "# CART-2\t\t17\t\t66\n",
    "# Siemens\t\t55\t\t135\n",
    "# Gamesa\t\t188\t\t267\n",
    "exclude_angles = [(15,53),(12,64),(13,54),(17,66),(55,135),(188,267)]"
   ]
  },
  {
   "cell_type": "code",
   "execution_count": 7,
   "metadata": {},
   "outputs": [],
   "source": [
    "categories = list(catinfo['columns'].keys())\n",
    "\n",
    "for cat in categories:\n",
    "    if 'stability flag' in cat.lower():\n",
    "        continue\n",
    "    \n",
    "    # savepath for new figs\n",
    "    savecat = catinfo['save'][cat]\n",
    "    catfigpath = os.makedirs(os.path.join(figPath,savecat), mode=0o777, exist_ok=True)\n",
    "    catfigpath = os.path.join(figPath,savecat)\n",
    "    \n",
    "    # Profiles\n",
    "    ## cumulative profile\n",
    "    fig, ax = vis.cumulative_profile(metdat, catinfo, cat)\n",
    "    fig.savefig(os.path.join(catfigpath,'{}_{}_profile.png'.format(towerID, savecat)), dpi=200, bbox_inches='tight')\n",
    "    \n",
    "    ## monthly profile\n",
    "    fig, ax = vis.monthly_profile(metdat, catinfo, cat)\n",
    "    fig.savefig(os.path.join(catfigpath,'{}_{}_profile_monthly.png'.format(towerID, savecat)), dpi=200, bbox_inches='tight')\n",
    "    \n",
    "    ## stability profile\n",
    "    fig,ax = vis.stability_profile(metdat, catinfo, cat)\n",
    "    fig.savefig(os.path.join(catfigpath,'{}_{}_profile_stability.png'.format(towerID, savecat)), dpi=200, bbox_inches='tight')\n",
    "    \n",
    "    ## monthly stability profile\n",
    "    fig,ax = vis.monthly_stability_profiles(metdat, catinfo, cat)\n",
    "    fig.savefig(os.path.join(catfigpath,'{}_{}_profile_monthly_stability.png'.format(towerID, savecat)), dpi=200, bbox_inches='tight')\n",
    "    \n",
    "    # Diurnal cycle\n",
    "    ## cumulative hourly plot\n",
    "    fig,ax = vis.hourlyplot(metdat, catinfo, cat)\n",
    "    fig.savefig(os.path.join(catfigpath,'{}_{}_hourly.png'.format(towerID, savecat)), dpi=200, bbox_inches='tight')\n",
    "    \n",
    "    ## monthly hourly plot\n",
    "    fig,ax = vis.monthlyhourlyplot(metdat, catinfo, cat)\n",
    "    fig.savefig(os.path.join(catfigpath,'{}_{}_hourly_monthly.png'.format(towerID, savecat)), dpi=200, bbox_inches='tight')\n",
    "\n",
    "    plt.close('all')\n",
    "    \n",
    "    "
   ]
  },
  {
   "cell_type": "markdown",
   "metadata": {},
   "source": [
    "## Figures by height\n",
    "Each of the following figures could be drawn for any probe height. Currently, figures are only drawn for z=80m (hub height)"
   ]
  },
  {
   "cell_type": "code",
   "execution_count": 15,
   "metadata": {},
   "outputs": [
    {
     "name": "stderr",
     "output_type": "stream",
     "text": [
      "/Users/nhamilto/.local/lib/python3.6/site-packages/numpy/lib/function_base.py:838: RuntimeWarning: invalid value encountered in true_divide\n",
      "  return n/db/n.sum(), bin_edges\n",
      "/Users/nhamilto/anaconda/lib/python3.6/site-packages/pandas/plotting/_core.py:1060: RuntimeWarning: invalid value encountered in greater_equal\n",
      "  if (values >= 0).all():\n",
      "/Users/nhamilto/anaconda/lib/python3.6/site-packages/pandas/plotting/_core.py:1062: RuntimeWarning: invalid value encountered in less_equal\n",
      "  elif (values <= 0).all():\n"
     ]
    }
   ],
   "source": [
    "categories = list(catinfo['columns'].keys())\n",
    "\n",
    "for cat in categories:\n",
    "    if 'stability flag' in cat.lower():\n",
    "        continue\n",
    "    \n",
    "    # savepath for new figs\n",
    "    savecat = catinfo['save'][cat]\n",
    "    catfigpath = os.path.join(figPath,savecat)\n",
    "    \n",
    "    catcolumns, probe_heights, _ = utils.get_vertical_locations(catinfo['columns'][cat])\n",
    "    \n",
    "    ## wind roses by height\n",
    "    for height in [80]:#probe_heights:\n",
    "    \n",
    "        # SCATTER PLOTS\n",
    "        ## cumulative scatter\n",
    "        fig, ax = vis.winddir_scatter(metdat, catinfo, cat, vertloc=height, exclude_angles=exclude_angles)\n",
    "        fig.savefig(os.path.join(catfigpath,'{}_{}_scatter_{}.png'.format(towerID, savecat, height)), dpi=200, bbox_inches='tight')\n",
    "\n",
    "        # stability scatter\n",
    "        fig, ax = vis.stability_winddir_scatter(metdat, catinfo, cat, vertloc=height)\n",
    "        fig.savefig(os.path.join(catfigpath,'{}_{}_scatter_stability_{}.png'.format(towerID, savecat, height)), dpi=200, bbox_inches='tight')\n",
    "\n",
    "        # HISTOGRAMS\n",
    "        # cumulative\n",
    "        fig,ax = vis.hist(metdat, catinfo, cat, vertloc=height)\n",
    "        fig.savefig(os.path.join(catfigpath,'{}_{}_hist_{}.png'.format(towerID, savecat, height)), dpi=200, bbox_inches='tight')\n",
    "\n",
    "        # stability breakout\n",
    "        fig,ax = vis.hist_by_stability(metdat, catinfo, cat, vertloc=height)\n",
    "        fig.savefig(os.path.join(catfigpath,'{}_{}_hist_stabilty_{}.png'.format(towerID, savecat, height)), dpi=200, bbox_inches='tight')\n",
    "\n",
    "        # stability stacked\n",
    "        fig,ax = fig,ax = vis.stacked_hist_by_stability(metdat, catinfo, cat, vertloc=height)\n",
    "        fig.savefig(os.path.join(catfigpath,'{}_{}_hist_stabilty_stacked_{}.png'.format(towerID, savecat, height)), dpi=200, bbox_inches='tight')\n",
    "        \n",
    "        if 'ti' not in cat.lower():\n",
    "            # groupby direction scatter\n",
    "            fig,ax = vis.groupby_scatter(metdat, catinfo, cat, vertloc=height, abscissa='direction', groupby='ti')\n",
    "            fig.set_size_inches(8,3)\n",
    "            fig.tight_layout()\n",
    "            fig.savefig(os.path.join(catfigpath,'{}_{}_TI_scatter_{}m.png'.format(towerID, savecat, height)), dpi=200, bbox_inches='tight')\n",
    "\n",
    "    plt.close('all')"
   ]
  },
  {
   "cell_type": "markdown",
   "metadata": {},
   "source": [
    "## Wind roses\n",
    "Might as well draw all of the wind roses (by height)"
   ]
  },
  {
   "cell_type": "code",
   "execution_count": 16,
   "metadata": {},
   "outputs": [
    {
     "name": "stderr",
     "output_type": "stream",
     "text": [
      "/Users/nhamilto/.local/lib/python3.6/site-packages/numpy/core/_methods.py:29: RuntimeWarning: invalid value encountered in reduce\n",
      "  return umr_minimum(a, axis, None, out, keepdims)\n",
      "/Users/nhamilto/.local/lib/python3.6/site-packages/numpy/core/_methods.py:26: RuntimeWarning: invalid value encountered in reduce\n",
      "  return umr_maximum(a, axis, None, out, keepdims)\n",
      "/Users/nhamilto/.local/lib/python3.6/site-packages/numpy/lib/function_base.py:991: RuntimeWarning: invalid value encountered in greater_equal\n",
      "  not_smaller_than_edge = (sample[:, i] >= edges[i][-1])\n"
     ]
    }
   ],
   "source": [
    "# wind roses\n",
    "cat = 'speed'\n",
    "catcolumns, probe_heights, ind = utils.get_vertical_locations(catinfo['columns'][cat])\n",
    "# savepath for new figs\n",
    "savecat = catinfo['save'][cat]\n",
    "catfigpath = os.makedirs(os.path.join(figPath,savecat,'roses'), mode=0o777, exist_ok=True)\n",
    "catfigpath = os.path.join(figPath,savecat,'roses')\n",
    "## wind roses by height\n",
    "for height in probe_heights:\n",
    "    ## cumulative wind rose\n",
    "    fig,ax,leg = vis.rose_fig(metdat, catinfo, cat, vertloc=height, bins=np.linspace(0,15,6), ylim=9)\n",
    "    fig.savefig(os.path.join(catfigpath,'{}_{}_rose_{}m.png'.format(towerID, cat, height)), dpi=200, bbox_inches='tight')\n",
    "    ## monthly wind roses\n",
    "    fig,ax,leg = vis.monthly_rose_fig(metdat, catinfo, cat, vertloc=height, bins=np.linspace(0,15,6), ylim=12)\n",
    "    fig.savefig(os.path.join(catfigpath,'{}_{}_rose_monthly_{}m.png'.format(towerID, cat, height)), dpi=200, bbox_inches='tight')\n",
    "\n",
    "    plt.close('all')"
   ]
  },
  {
   "cell_type": "code",
   "execution_count": 10,
   "metadata": {},
   "outputs": [
    {
     "name": "stderr",
     "output_type": "stream",
     "text": [
      "/Users/nhamilto/.local/lib/python3.6/site-packages/numpy/core/_methods.py:29: RuntimeWarning: invalid value encountered in reduce\n",
      "  return umr_minimum(a, axis, None, out, keepdims)\n",
      "/Users/nhamilto/.local/lib/python3.6/site-packages/numpy/core/_methods.py:26: RuntimeWarning: invalid value encountered in reduce\n",
      "  return umr_maximum(a, axis, None, out, keepdims)\n",
      "/Users/nhamilto/.local/lib/python3.6/site-packages/numpy/lib/function_base.py:991: RuntimeWarning: invalid value encountered in greater_equal\n",
      "  not_smaller_than_edge = (sample[:, i] >= edges[i][-1])\n"
     ]
    }
   ],
   "source": [
    "# TI roses\n",
    "cat = 'ti'\n",
    "catcolumns, probe_heights, ind = utils.get_vertical_locations(catinfo['columns'][cat])\n",
    "# savepath for new figs\n",
    "savecat = catinfo['save'][cat]\n",
    "catfigpath = os.makedirs(os.path.join(figPath,savecat,'roses'), mode=0o777, exist_ok=True)\n",
    "catfigpath = os.path.join(figPath,savecat,'roses')\n",
    "## wind roses by height\n",
    "for height in probe_heights:\n",
    "    ## cumulative wind rose\n",
    "    fig,ax,leg = vis.rose_fig(metdat, catinfo, cat, vertloc=height, bins=np.linspace(0,40,6), ylim=12)\n",
    "    fig.savefig(os.path.join(catfigpath,'{}_{}_rose_{}m.png'.format(towerID, cat, height)), dpi=200, bbox_inches='tight')\n",
    "    ## monthly wind roses\n",
    "    fig,ax,leg = vis.monthly_rose_fig(metdat, catinfo, cat, vertloc=height, bins=np.linspace(0,40,6), ylim=14)\n",
    "    fig.savefig(os.path.join(catfigpath,'{}_{}_rose_monthly_{}m.png'.format(towerID, cat, height)), dpi=200, bbox_inches='tight')\n",
    "\n",
    "    plt.close('all')"
   ]
  },
  {
   "cell_type": "code",
   "execution_count": 11,
   "metadata": {},
   "outputs": [
    {
     "data": {
      "image/png": "[encoded data removed]",
      "text/plain": [
       "<matplotlib.figure.Figure at 0x13b0cc240>"
      ]
     },
     "metadata": {},
     "output_type": "display_data"
    }
   ],
   "source": [
    "fig, ax = vis.normalized_hist_by_stability(metdat, catinfo)\n",
    "fig.savefig(os.path.join(figPath,'{}_normalized_stability_flag.png'.format(towerID)), dpi=200, bbox_inches='tight')"
   ]
  },
  {
   "cell_type": "code",
   "execution_count": 12,
   "metadata": {},
   "outputs": [
    {
     "name": "stderr",
     "output_type": "stream",
     "text": [
      "/Volumes/Sitechar/coderepo/nicholas/vis.py:847: PerformanceWarning: indexing past lexsort depth may impact performance.\n",
      "  pdat = temp.loc[ii+1,cond]\n"
     ]
    },
    {
     "data": {
      "image/png": "[encoded data removed]",
      "text/plain": [
       "<matplotlib.figure.Figure at 0x13be12940>"
      ]
     },
     "metadata": {},
     "output_type": "display_data"
    }
   ],
   "source": [
    "fig, ax = vis.normalized_monthly_hist_by_stability(metdat,catinfo)\n",
    "fig.savefig(os.path.join(figPath,'{}_normalized_stability_flag_monthly.png'.format(towerID)), dpi=200, bbox_inches='tight')"
   ]
  },
  {
   "cell_type": "code",
   "execution_count": null,
   "metadata": {},
   "outputs": [],
   "source": []
  }
 ],
 "metadata": {
  "kernelspec": {
   "display_name": "Python 3",
   "language": "python",
   "name": "python3"
  },
  "language_info": {
   "codemirror_mode": {
    "name": "ipython",
    "version": 3
   },
   "file_extension": ".py",
   "mimetype": "text/x-python",
   "name": "python",
   "nbconvert_exporter": "python",
   "pygments_lexer": "ipython3",
   "version": "3.6.4"
  }
 },
 "nbformat": 4,
 "nbformat_minor": 2
}
