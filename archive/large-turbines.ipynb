{
 "cells": [
  {
   "cell_type": "markdown",
   "metadata": {},
   "source": [
    "## large wind turbines at nwtc"
   ]
  },
  {
   "cell_type": "code",
   "execution_count": 14,
   "metadata": {
    "collapsed": true
   },
   "outputs": [],
   "source": [
    "import numpy as np\n",
    "import pandas as pd"
   ]
  },
  {
   "cell_type": "code",
   "execution_count": 27,
   "metadata": {
    "collapsed": false
   },
   "outputs": [],
   "source": [
    "turbines = {}\n",
    "turbines['WTG'] = [\"GE\", \"ALSTOM\", \"CART3\", \"CART2\", \"SIEMENS\", \"GAMESA\"]\n",
    "turbines['YearErected'] = [2009, np.nan, np.nan, np.nan, 2009, 2011]\n",
    "turbines['HubHeight'] = [80.0, 90.0, 37.0, 37.0, 80.0, 90.0]\n",
    "turbines['RotorDiameter']= [77.0, 110.0, 40.0, 43.3, 108.0, 97.0]\n",
    "turbines['Latitude'] = [39.912106, 39.910362, 39.908971, 39.907813, 39.906051, 39.905083]\n",
    "turbines['Longitude'] = [-105.220018, -105.221053, -105.222725, -105.223313, -105.222878, -105.227054]"
   ]
  },
  {
   "cell_type": "code",
   "execution_count": 29,
   "metadata": {
    "collapsed": false
   },
   "outputs": [
    {
     "data": {
      "text/html": [
       "<div>\n",
       "<style>\n",
       "    .dataframe thead tr:only-child th {\n",
       "        text-align: right;\n",
       "    }\n",
       "\n",
       "    .dataframe thead th {\n",
       "        text-align: left;\n",
       "    }\n",
       "\n",
       "    .dataframe tbody tr th {\n",
       "        vertical-align: top;\n",
       "    }\n",
       "</style>\n",
       "<table border=\"1\" class=\"dataframe\">\n",
       "  <thead>\n",
       "    <tr style=\"text-align: right;\">\n",
       "      <th></th>\n",
       "      <th>HubHeight</th>\n",
       "      <th>Latitude</th>\n",
       "      <th>Longitude</th>\n",
       "      <th>RotorDiameter</th>\n",
       "      <th>YearErected</th>\n",
       "    </tr>\n",
       "    <tr>\n",
       "      <th>WTG</th>\n",
       "      <th></th>\n",
       "      <th></th>\n",
       "      <th></th>\n",
       "      <th></th>\n",
       "      <th></th>\n",
       "    </tr>\n",
       "  </thead>\n",
       "  <tbody>\n",
       "    <tr>\n",
       "      <th>GE</th>\n",
       "      <td>80.0</td>\n",
       "      <td>39.912106</td>\n",
       "      <td>-105.220018</td>\n",
       "      <td>77.0</td>\n",
       "      <td>2009.0</td>\n",
       "    </tr>\n",
       "    <tr>\n",
       "      <th>ALSTOM</th>\n",
       "      <td>90.0</td>\n",
       "      <td>39.910362</td>\n",
       "      <td>-105.221053</td>\n",
       "      <td>110.0</td>\n",
       "      <td>NaN</td>\n",
       "    </tr>\n",
       "    <tr>\n",
       "      <th>CART3</th>\n",
       "      <td>37.0</td>\n",
       "      <td>39.908971</td>\n",
       "      <td>-105.222725</td>\n",
       "      <td>40.0</td>\n",
       "      <td>NaN</td>\n",
       "    </tr>\n",
       "    <tr>\n",
       "      <th>CART2</th>\n",
       "      <td>37.0</td>\n",
       "      <td>39.907813</td>\n",
       "      <td>-105.223313</td>\n",
       "      <td>43.3</td>\n",
       "      <td>NaN</td>\n",
       "    </tr>\n",
       "    <tr>\n",
       "      <th>SIEMENS</th>\n",
       "      <td>80.0</td>\n",
       "      <td>39.906051</td>\n",
       "      <td>-105.222878</td>\n",
       "      <td>108.0</td>\n",
       "      <td>2009.0</td>\n",
       "    </tr>\n",
       "    <tr>\n",
       "      <th>GAMESA</th>\n",
       "      <td>90.0</td>\n",
       "      <td>39.905083</td>\n",
       "      <td>-105.227054</td>\n",
       "      <td>97.0</td>\n",
       "      <td>2011.0</td>\n",
       "    </tr>\n",
       "  </tbody>\n",
       "</table>\n",
       "</div>"
      ],
      "text/plain": [
       "         HubHeight   Latitude   Longitude  RotorDiameter  YearErected\n",
       "WTG                                                                  \n",
       "GE            80.0  39.912106 -105.220018           77.0       2009.0\n",
       "ALSTOM        90.0  39.910362 -105.221053          110.0          NaN\n",
       "CART3         37.0  39.908971 -105.222725           40.0          NaN\n",
       "CART2         37.0  39.907813 -105.223313           43.3          NaN\n",
       "SIEMENS       80.0  39.906051 -105.222878          108.0       2009.0\n",
       "GAMESA        90.0  39.905083 -105.227054           97.0       2011.0"
      ]
     },
     "execution_count": 29,
     "metadata": {},
     "output_type": "execute_result"
    }
   ],
   "source": [
    "pd.DataFrame.from_dict(turbines).set_index('WTG')"
   ]
  }
 ],
 "metadata": {
  "kernelspec": {
   "display_name": "Python [default]",
   "language": "python",
   "name": "python2"
  },
  "language_info": {
   "codemirror_mode": {
    "name": "ipython",
    "version": 2
   },
   "file_extension": ".py",
   "mimetype": "text/x-python",
   "name": "python",
   "nbconvert_exporter": "python",
   "pygments_lexer": "ipython2",
   "version": "2.7.13"
  }
 },
 "nbformat": 4,
 "nbformat_minor": 2
}
